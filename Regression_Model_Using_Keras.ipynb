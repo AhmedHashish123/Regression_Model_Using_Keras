{
    "cells": [
        {
            "cell_type": "markdown",
            "metadata": {
                "collapsed": true
            },
            "source": "## Imports:"
        },
        {
            "cell_type": "markdown",
            "metadata": {},
            "source": "### Keras is now in TensorFlow, so the imports are as follows:"
        },
        {
            "cell_type": "code",
            "execution_count": 1,
            "metadata": {},
            "outputs": [],
            "source": "from tensorflow.keras.models import Sequential\nfrom tensorflow.keras.layers import Dense"
        },
        {
            "cell_type": "code",
            "execution_count": 2,
            "metadata": {},
            "outputs": [],
            "source": "import pandas as pd\nimport numpy as np\nfrom sklearn.model_selection import train_test_split\nfrom sklearn.metrics import mean_squared_error"
        },
        {
            "cell_type": "markdown",
            "metadata": {},
            "source": "## Reading The Dataset:"
        },
        {
            "cell_type": "markdown",
            "metadata": {},
            "source": "### Reading the dataset, knowing the number of rows and columns and making sure that there are no null cells:"
        },
        {
            "cell_type": "code",
            "execution_count": 3,
            "metadata": {},
            "outputs": [
                {
                    "data": {
                        "text/html": "<div>\n<style scoped>\n    .dataframe tbody tr th:only-of-type {\n        vertical-align: middle;\n    }\n\n    .dataframe tbody tr th {\n        vertical-align: top;\n    }\n\n    .dataframe thead th {\n        text-align: right;\n    }\n</style>\n<table border=\"1\" class=\"dataframe\">\n  <thead>\n    <tr style=\"text-align: right;\">\n      <th></th>\n      <th>Cement</th>\n      <th>Blast Furnace Slag</th>\n      <th>Fly Ash</th>\n      <th>Water</th>\n      <th>Superplasticizer</th>\n      <th>Coarse Aggregate</th>\n      <th>Fine Aggregate</th>\n      <th>Age</th>\n      <th>Strength</th>\n    </tr>\n  </thead>\n  <tbody>\n    <tr>\n      <th>0</th>\n      <td>540.0</td>\n      <td>0.0</td>\n      <td>0.0</td>\n      <td>162.0</td>\n      <td>2.5</td>\n      <td>1040.0</td>\n      <td>676.0</td>\n      <td>28</td>\n      <td>79.99</td>\n    </tr>\n    <tr>\n      <th>1</th>\n      <td>540.0</td>\n      <td>0.0</td>\n      <td>0.0</td>\n      <td>162.0</td>\n      <td>2.5</td>\n      <td>1055.0</td>\n      <td>676.0</td>\n      <td>28</td>\n      <td>61.89</td>\n    </tr>\n    <tr>\n      <th>2</th>\n      <td>332.5</td>\n      <td>142.5</td>\n      <td>0.0</td>\n      <td>228.0</td>\n      <td>0.0</td>\n      <td>932.0</td>\n      <td>594.0</td>\n      <td>270</td>\n      <td>40.27</td>\n    </tr>\n    <tr>\n      <th>3</th>\n      <td>332.5</td>\n      <td>142.5</td>\n      <td>0.0</td>\n      <td>228.0</td>\n      <td>0.0</td>\n      <td>932.0</td>\n      <td>594.0</td>\n      <td>365</td>\n      <td>41.05</td>\n    </tr>\n    <tr>\n      <th>4</th>\n      <td>198.6</td>\n      <td>132.4</td>\n      <td>0.0</td>\n      <td>192.0</td>\n      <td>0.0</td>\n      <td>978.4</td>\n      <td>825.5</td>\n      <td>360</td>\n      <td>44.30</td>\n    </tr>\n  </tbody>\n</table>\n</div>",
                        "text/plain": "   Cement  Blast Furnace Slag  Fly Ash  Water  Superplasticizer  \\\n0   540.0                 0.0      0.0  162.0               2.5   \n1   540.0                 0.0      0.0  162.0               2.5   \n2   332.5               142.5      0.0  228.0               0.0   \n3   332.5               142.5      0.0  228.0               0.0   \n4   198.6               132.4      0.0  192.0               0.0   \n\n   Coarse Aggregate  Fine Aggregate  Age  Strength  \n0            1040.0           676.0   28     79.99  \n1            1055.0           676.0   28     61.89  \n2             932.0           594.0  270     40.27  \n3             932.0           594.0  365     41.05  \n4             978.4           825.5  360     44.30  "
                    },
                    "execution_count": 3,
                    "metadata": {},
                    "output_type": "execute_result"
                }
            ],
            "source": "concrete_data = pd.read_csv('https://cocl.us/concrete_data')\nconcrete_data.head()"
        },
        {
            "cell_type": "code",
            "execution_count": 4,
            "metadata": {},
            "outputs": [
                {
                    "data": {
                        "text/plain": "(1030, 9)"
                    },
                    "execution_count": 4,
                    "metadata": {},
                    "output_type": "execute_result"
                }
            ],
            "source": "concrete_data.shape"
        },
        {
            "cell_type": "code",
            "execution_count": 5,
            "metadata": {},
            "outputs": [
                {
                    "data": {
                        "text/html": "<div>\n<style scoped>\n    .dataframe tbody tr th:only-of-type {\n        vertical-align: middle;\n    }\n\n    .dataframe tbody tr th {\n        vertical-align: top;\n    }\n\n    .dataframe thead th {\n        text-align: right;\n    }\n</style>\n<table border=\"1\" class=\"dataframe\">\n  <thead>\n    <tr style=\"text-align: right;\">\n      <th></th>\n      <th>Cement</th>\n      <th>Blast Furnace Slag</th>\n      <th>Fly Ash</th>\n      <th>Water</th>\n      <th>Superplasticizer</th>\n      <th>Coarse Aggregate</th>\n      <th>Fine Aggregate</th>\n      <th>Age</th>\n      <th>Strength</th>\n    </tr>\n  </thead>\n  <tbody>\n    <tr>\n      <th>count</th>\n      <td>1030.000000</td>\n      <td>1030.000000</td>\n      <td>1030.000000</td>\n      <td>1030.000000</td>\n      <td>1030.000000</td>\n      <td>1030.000000</td>\n      <td>1030.000000</td>\n      <td>1030.000000</td>\n      <td>1030.000000</td>\n    </tr>\n    <tr>\n      <th>mean</th>\n      <td>281.167864</td>\n      <td>73.895825</td>\n      <td>54.188350</td>\n      <td>181.567282</td>\n      <td>6.204660</td>\n      <td>972.918932</td>\n      <td>773.580485</td>\n      <td>45.662136</td>\n      <td>35.817961</td>\n    </tr>\n    <tr>\n      <th>std</th>\n      <td>104.506364</td>\n      <td>86.279342</td>\n      <td>63.997004</td>\n      <td>21.354219</td>\n      <td>5.973841</td>\n      <td>77.753954</td>\n      <td>80.175980</td>\n      <td>63.169912</td>\n      <td>16.705742</td>\n    </tr>\n    <tr>\n      <th>min</th>\n      <td>102.000000</td>\n      <td>0.000000</td>\n      <td>0.000000</td>\n      <td>121.800000</td>\n      <td>0.000000</td>\n      <td>801.000000</td>\n      <td>594.000000</td>\n      <td>1.000000</td>\n      <td>2.330000</td>\n    </tr>\n    <tr>\n      <th>25%</th>\n      <td>192.375000</td>\n      <td>0.000000</td>\n      <td>0.000000</td>\n      <td>164.900000</td>\n      <td>0.000000</td>\n      <td>932.000000</td>\n      <td>730.950000</td>\n      <td>7.000000</td>\n      <td>23.710000</td>\n    </tr>\n    <tr>\n      <th>50%</th>\n      <td>272.900000</td>\n      <td>22.000000</td>\n      <td>0.000000</td>\n      <td>185.000000</td>\n      <td>6.400000</td>\n      <td>968.000000</td>\n      <td>779.500000</td>\n      <td>28.000000</td>\n      <td>34.445000</td>\n    </tr>\n    <tr>\n      <th>75%</th>\n      <td>350.000000</td>\n      <td>142.950000</td>\n      <td>118.300000</td>\n      <td>192.000000</td>\n      <td>10.200000</td>\n      <td>1029.400000</td>\n      <td>824.000000</td>\n      <td>56.000000</td>\n      <td>46.135000</td>\n    </tr>\n    <tr>\n      <th>max</th>\n      <td>540.000000</td>\n      <td>359.400000</td>\n      <td>200.100000</td>\n      <td>247.000000</td>\n      <td>32.200000</td>\n      <td>1145.000000</td>\n      <td>992.600000</td>\n      <td>365.000000</td>\n      <td>82.600000</td>\n    </tr>\n  </tbody>\n</table>\n</div>",
                        "text/plain": "            Cement  Blast Furnace Slag      Fly Ash        Water  \\\ncount  1030.000000         1030.000000  1030.000000  1030.000000   \nmean    281.167864           73.895825    54.188350   181.567282   \nstd     104.506364           86.279342    63.997004    21.354219   \nmin     102.000000            0.000000     0.000000   121.800000   \n25%     192.375000            0.000000     0.000000   164.900000   \n50%     272.900000           22.000000     0.000000   185.000000   \n75%     350.000000          142.950000   118.300000   192.000000   \nmax     540.000000          359.400000   200.100000   247.000000   \n\n       Superplasticizer  Coarse Aggregate  Fine Aggregate          Age  \\\ncount       1030.000000       1030.000000     1030.000000  1030.000000   \nmean           6.204660        972.918932      773.580485    45.662136   \nstd            5.973841         77.753954       80.175980    63.169912   \nmin            0.000000        801.000000      594.000000     1.000000   \n25%            0.000000        932.000000      730.950000     7.000000   \n50%            6.400000        968.000000      779.500000    28.000000   \n75%           10.200000       1029.400000      824.000000    56.000000   \nmax           32.200000       1145.000000      992.600000   365.000000   \n\n          Strength  \ncount  1030.000000  \nmean     35.817961  \nstd      16.705742  \nmin       2.330000  \n25%      23.710000  \n50%      34.445000  \n75%      46.135000  \nmax      82.600000  "
                    },
                    "execution_count": 5,
                    "metadata": {},
                    "output_type": "execute_result"
                }
            ],
            "source": "concrete_data.describe()"
        },
        {
            "cell_type": "code",
            "execution_count": 6,
            "metadata": {},
            "outputs": [
                {
                    "data": {
                        "text/plain": "Cement                0\nBlast Furnace Slag    0\nFly Ash               0\nWater                 0\nSuperplasticizer      0\nCoarse Aggregate      0\nFine Aggregate        0\nAge                   0\nStrength              0\ndtype: int64"
                    },
                    "execution_count": 6,
                    "metadata": {},
                    "output_type": "execute_result"
                }
            ],
            "source": "concrete_data.isnull().sum()"
        },
        {
            "cell_type": "markdown",
            "metadata": {},
            "source": "### Splitting the columns to predictors (X) and target (Y):"
        },
        {
            "cell_type": "code",
            "execution_count": 7,
            "metadata": {},
            "outputs": [],
            "source": "concrete_data_columns = concrete_data.columns\npredictors = concrete_data[concrete_data_columns[concrete_data_columns != 'Strength']] # all columns except Strength\ntarget = concrete_data['Strength'] # Strength column"
        },
        {
            "cell_type": "code",
            "execution_count": 8,
            "metadata": {},
            "outputs": [
                {
                    "data": {
                        "text/html": "<div>\n<style scoped>\n    .dataframe tbody tr th:only-of-type {\n        vertical-align: middle;\n    }\n\n    .dataframe tbody tr th {\n        vertical-align: top;\n    }\n\n    .dataframe thead th {\n        text-align: right;\n    }\n</style>\n<table border=\"1\" class=\"dataframe\">\n  <thead>\n    <tr style=\"text-align: right;\">\n      <th></th>\n      <th>Cement</th>\n      <th>Blast Furnace Slag</th>\n      <th>Fly Ash</th>\n      <th>Water</th>\n      <th>Superplasticizer</th>\n      <th>Coarse Aggregate</th>\n      <th>Fine Aggregate</th>\n      <th>Age</th>\n    </tr>\n  </thead>\n  <tbody>\n    <tr>\n      <th>0</th>\n      <td>540.0</td>\n      <td>0.0</td>\n      <td>0.0</td>\n      <td>162.0</td>\n      <td>2.5</td>\n      <td>1040.0</td>\n      <td>676.0</td>\n      <td>28</td>\n    </tr>\n    <tr>\n      <th>1</th>\n      <td>540.0</td>\n      <td>0.0</td>\n      <td>0.0</td>\n      <td>162.0</td>\n      <td>2.5</td>\n      <td>1055.0</td>\n      <td>676.0</td>\n      <td>28</td>\n    </tr>\n    <tr>\n      <th>2</th>\n      <td>332.5</td>\n      <td>142.5</td>\n      <td>0.0</td>\n      <td>228.0</td>\n      <td>0.0</td>\n      <td>932.0</td>\n      <td>594.0</td>\n      <td>270</td>\n    </tr>\n    <tr>\n      <th>3</th>\n      <td>332.5</td>\n      <td>142.5</td>\n      <td>0.0</td>\n      <td>228.0</td>\n      <td>0.0</td>\n      <td>932.0</td>\n      <td>594.0</td>\n      <td>365</td>\n    </tr>\n    <tr>\n      <th>4</th>\n      <td>198.6</td>\n      <td>132.4</td>\n      <td>0.0</td>\n      <td>192.0</td>\n      <td>0.0</td>\n      <td>978.4</td>\n      <td>825.5</td>\n      <td>360</td>\n    </tr>\n  </tbody>\n</table>\n</div>",
                        "text/plain": "   Cement  Blast Furnace Slag  Fly Ash  Water  Superplasticizer  \\\n0   540.0                 0.0      0.0  162.0               2.5   \n1   540.0                 0.0      0.0  162.0               2.5   \n2   332.5               142.5      0.0  228.0               0.0   \n3   332.5               142.5      0.0  228.0               0.0   \n4   198.6               132.4      0.0  192.0               0.0   \n\n   Coarse Aggregate  Fine Aggregate  Age  \n0            1040.0           676.0   28  \n1            1055.0           676.0   28  \n2             932.0           594.0  270  \n3             932.0           594.0  365  \n4             978.4           825.5  360  "
                    },
                    "execution_count": 8,
                    "metadata": {},
                    "output_type": "execute_result"
                }
            ],
            "source": "predictors.head()"
        },
        {
            "cell_type": "code",
            "execution_count": 9,
            "metadata": {},
            "outputs": [
                {
                    "data": {
                        "text/plain": "0    79.99\n1    61.89\n2    40.27\n3    41.05\n4    44.30\nName: Strength, dtype: float64"
                    },
                    "execution_count": 9,
                    "metadata": {},
                    "output_type": "execute_result"
                }
            ],
            "source": "target.head()"
        },
        {
            "cell_type": "code",
            "execution_count": 10,
            "metadata": {},
            "outputs": [],
            "source": "n_cols = predictors.shape[1]"
        },
        {
            "cell_type": "markdown",
            "metadata": {},
            "source": "# Part A:"
        },
        {
            "cell_type": "markdown",
            "metadata": {},
            "source": "## Building a Neural Network:"
        },
        {
            "cell_type": "code",
            "execution_count": 11,
            "metadata": {},
            "outputs": [],
            "source": "def regression_model_A():\n    \n    model = Sequential()\n    \n    model.add(Dense(10, activation='relu', input_shape=(n_cols,)))\n    model.add(Dense(1))\n    \n    model.compile(optimizer='adam', loss='mean_squared_error')\n    \n    return model"
        },
        {
            "cell_type": "code",
            "execution_count": 12,
            "metadata": {},
            "outputs": [
                {
                    "name": "stdout",
                    "output_type": "stream",
                    "text": "########################################### Finished Iteration number 1 ###########################################\n########################################### Finished Iteration number 2 ###########################################\n########################################### Finished Iteration number 3 ###########################################\n########################################### Finished Iteration number 4 ###########################################\n########################################### Finished Iteration number 5 ###########################################\n########################################### Finished Iteration number 6 ###########################################\n########################################### Finished Iteration number 7 ###########################################\n########################################### Finished Iteration number 8 ###########################################\n########################################### Finished Iteration number 9 ###########################################\n########################################### Finished Iteration number 10 ###########################################\n########################################### Finished Iteration number 11 ###########################################\n########################################### Finished Iteration number 12 ###########################################\n########################################### Finished Iteration number 13 ###########################################\n########################################### Finished Iteration number 14 ###########################################\n########################################### Finished Iteration number 15 ###########################################\n########################################### Finished Iteration number 16 ###########################################\n########################################### Finished Iteration number 17 ###########################################\n########################################### Finished Iteration number 18 ###########################################\n########################################### Finished Iteration number 19 ###########################################\n########################################### Finished Iteration number 20 ###########################################\n########################################### Finished Iteration number 21 ###########################################\n########################################### Finished Iteration number 22 ###########################################\n########################################### Finished Iteration number 23 ###########################################\n########################################### Finished Iteration number 24 ###########################################\n########################################### Finished Iteration number 25 ###########################################\n########################################### Finished Iteration number 26 ###########################################\n########################################### Finished Iteration number 27 ###########################################\n########################################### Finished Iteration number 28 ###########################################\n########################################### Finished Iteration number 29 ###########################################\n########################################### Finished Iteration number 30 ###########################################\n########################################### Finished Iteration number 31 ###########################################\n########################################### Finished Iteration number 32 ###########################################\n########################################### Finished Iteration number 33 ###########################################\n########################################### Finished Iteration number 34 ###########################################\n########################################### Finished Iteration number 35 ###########################################\n########################################### Finished Iteration number 36 ###########################################\n########################################### Finished Iteration number 37 ###########################################\n########################################### Finished Iteration number 38 ###########################################\n########################################### Finished Iteration number 39 ###########################################\n########################################### Finished Iteration number 40 ###########################################\n########################################### Finished Iteration number 41 ###########################################\n########################################### Finished Iteration number 42 ###########################################\n########################################### Finished Iteration number 43 ###########################################\n########################################### Finished Iteration number 44 ###########################################\n########################################### Finished Iteration number 45 ###########################################\n########################################### Finished Iteration number 46 ###########################################\n########################################### Finished Iteration number 47 ###########################################\n########################################### Finished Iteration number 48 ###########################################\n########################################### Finished Iteration number 49 ###########################################\n########################################### Finished Iteration number 50 ###########################################\n"
                }
            ],
            "source": "error_A = []\nfor i in range(50):\n    ##### Splitting the data into training and test sets:\n    x_train, x_test, y_train, y_test = train_test_split(predictors, target, test_size=0.3) # we will not put random states as we will do this operation 50 times and we want the 50 times to be different\n    # print ('Train set:', x_train.shape,  y_train.shape)\n    # print ('Test set:', x_test.shape,  y_test.shape)\n\n\n    ##### Testing and Training:\n    model_A = regression_model_A()\n    model_A.fit(x_train, y_train, validation_split=0.3, epochs=50, verbose=0)\n    # By setting verbose 0, 1 or 2 you just say how do you want to 'see' the training progress for each epoch.\n    # verbose=0 will show you nothing (silent)\n    # verbose=1 will show you an animated progress bar\n    # verbose=2 will just mention the number of epoch\n    y_hat = model_A.predict(x_test)\n    \n    \n    ##### Error calculation:\n    error_A.append(mean_squared_error(y_test, y_hat))\n    print('########################################### Finished Iteration number',i+1,'###########################################')"
        },
        {
            "cell_type": "markdown",
            "metadata": {},
            "source": "## Calculating Mean and STD of The Error:"
        },
        {
            "cell_type": "code",
            "execution_count": 13,
            "metadata": {},
            "outputs": [],
            "source": "error_A_numpy = np.array(error_A)\nmean_A = np.mean(error_A)\nstd_A = np.std(error_A)"
        },
        {
            "cell_type": "code",
            "execution_count": 14,
            "metadata": {},
            "outputs": [
                {
                    "name": "stdout",
                    "output_type": "stream",
                    "text": "758.959091054921\n1244.0531040283604\n"
                }
            ],
            "source": "print(mean_A)\nprint(std_A)"
        },
        {
            "cell_type": "markdown",
            "metadata": {},
            "source": "# Part B:"
        },
        {
            "cell_type": "markdown",
            "metadata": {},
            "source": "## Normalizing The Dataset:"
        },
        {
            "cell_type": "code",
            "execution_count": 15,
            "metadata": {},
            "outputs": [
                {
                    "data": {
                        "text/html": "<div>\n<style scoped>\n    .dataframe tbody tr th:only-of-type {\n        vertical-align: middle;\n    }\n\n    .dataframe tbody tr th {\n        vertical-align: top;\n    }\n\n    .dataframe thead th {\n        text-align: right;\n    }\n</style>\n<table border=\"1\" class=\"dataframe\">\n  <thead>\n    <tr style=\"text-align: right;\">\n      <th></th>\n      <th>Cement</th>\n      <th>Blast Furnace Slag</th>\n      <th>Fly Ash</th>\n      <th>Water</th>\n      <th>Superplasticizer</th>\n      <th>Coarse Aggregate</th>\n      <th>Fine Aggregate</th>\n      <th>Age</th>\n    </tr>\n  </thead>\n  <tbody>\n    <tr>\n      <th>0</th>\n      <td>2.476712</td>\n      <td>-0.856472</td>\n      <td>-0.846733</td>\n      <td>-0.916319</td>\n      <td>-0.620147</td>\n      <td>0.862735</td>\n      <td>-1.217079</td>\n      <td>-0.279597</td>\n    </tr>\n    <tr>\n      <th>1</th>\n      <td>2.476712</td>\n      <td>-0.856472</td>\n      <td>-0.846733</td>\n      <td>-0.916319</td>\n      <td>-0.620147</td>\n      <td>1.055651</td>\n      <td>-1.217079</td>\n      <td>-0.279597</td>\n    </tr>\n    <tr>\n      <th>2</th>\n      <td>0.491187</td>\n      <td>0.795140</td>\n      <td>-0.846733</td>\n      <td>2.174405</td>\n      <td>-1.038638</td>\n      <td>-0.526262</td>\n      <td>-2.239829</td>\n      <td>3.551340</td>\n    </tr>\n    <tr>\n      <th>3</th>\n      <td>0.491187</td>\n      <td>0.795140</td>\n      <td>-0.846733</td>\n      <td>2.174405</td>\n      <td>-1.038638</td>\n      <td>-0.526262</td>\n      <td>-2.239829</td>\n      <td>5.055221</td>\n    </tr>\n    <tr>\n      <th>4</th>\n      <td>-0.790075</td>\n      <td>0.678079</td>\n      <td>-0.846733</td>\n      <td>0.488555</td>\n      <td>-1.038638</td>\n      <td>0.070492</td>\n      <td>0.647569</td>\n      <td>4.976069</td>\n    </tr>\n  </tbody>\n</table>\n</div>",
                        "text/plain": "     Cement  Blast Furnace Slag   Fly Ash     Water  Superplasticizer  \\\n0  2.476712           -0.856472 -0.846733 -0.916319         -0.620147   \n1  2.476712           -0.856472 -0.846733 -0.916319         -0.620147   \n2  0.491187            0.795140 -0.846733  2.174405         -1.038638   \n3  0.491187            0.795140 -0.846733  2.174405         -1.038638   \n4 -0.790075            0.678079 -0.846733  0.488555         -1.038638   \n\n   Coarse Aggregate  Fine Aggregate       Age  \n0          0.862735       -1.217079 -0.279597  \n1          1.055651       -1.217079 -0.279597  \n2         -0.526262       -2.239829  3.551340  \n3         -0.526262       -2.239829  5.055221  \n4          0.070492        0.647569  4.976069  "
                    },
                    "execution_count": 15,
                    "metadata": {},
                    "output_type": "execute_result"
                }
            ],
            "source": "predictors_norm = (predictors - predictors.mean()) / predictors.std()\npredictors_norm.head()"
        },
        {
            "cell_type": "markdown",
            "metadata": {},
            "source": "## Building a Neural Network:"
        },
        {
            "cell_type": "code",
            "execution_count": 16,
            "metadata": {},
            "outputs": [],
            "source": "def regression_model_B():\n    \n    model = Sequential()\n    \n    model.add(Dense(10, activation='relu', input_shape=(n_cols,)))\n    model.add(Dense(1))\n    \n    model.compile(optimizer='adam', loss='mean_squared_error')\n    \n    return model"
        },
        {
            "cell_type": "code",
            "execution_count": 19,
            "metadata": {},
            "outputs": [
                {
                    "name": "stdout",
                    "output_type": "stream",
                    "text": "########################################### Finished Iteration number 1 ###########################################\n########################################### Finished Iteration number 2 ###########################################\n########################################### Finished Iteration number 3 ###########################################\n########################################### Finished Iteration number 4 ###########################################\n########################################### Finished Iteration number 5 ###########################################\n########################################### Finished Iteration number 6 ###########################################\n########################################### Finished Iteration number 7 ###########################################\n########################################### Finished Iteration number 8 ###########################################\n########################################### Finished Iteration number 9 ###########################################\n########################################### Finished Iteration number 10 ###########################################\n########################################### Finished Iteration number 11 ###########################################\n########################################### Finished Iteration number 12 ###########################################\n########################################### Finished Iteration number 13 ###########################################\n########################################### Finished Iteration number 14 ###########################################\n########################################### Finished Iteration number 15 ###########################################\n########################################### Finished Iteration number 16 ###########################################\n########################################### Finished Iteration number 17 ###########################################\n########################################### Finished Iteration number 18 ###########################################\n########################################### Finished Iteration number 19 ###########################################\n########################################### Finished Iteration number 20 ###########################################\n########################################### Finished Iteration number 21 ###########################################\n########################################### Finished Iteration number 22 ###########################################\n########################################### Finished Iteration number 23 ###########################################\n########################################### Finished Iteration number 24 ###########################################\n########################################### Finished Iteration number 25 ###########################################\n########################################### Finished Iteration number 26 ###########################################\n########################################### Finished Iteration number 27 ###########################################\n########################################### Finished Iteration number 28 ###########################################\n########################################### Finished Iteration number 29 ###########################################\n########################################### Finished Iteration number 30 ###########################################\n########################################### Finished Iteration number 31 ###########################################\n########################################### Finished Iteration number 32 ###########################################\n########################################### Finished Iteration number 33 ###########################################\n########################################### Finished Iteration number 34 ###########################################\n########################################### Finished Iteration number 35 ###########################################\n########################################### Finished Iteration number 36 ###########################################\n########################################### Finished Iteration number 37 ###########################################\n########################################### Finished Iteration number 38 ###########################################\n########################################### Finished Iteration number 39 ###########################################\n########################################### Finished Iteration number 40 ###########################################\n########################################### Finished Iteration number 41 ###########################################\n########################################### Finished Iteration number 42 ###########################################\n########################################### Finished Iteration number 43 ###########################################\n########################################### Finished Iteration number 44 ###########################################\n########################################### Finished Iteration number 45 ###########################################\n########################################### Finished Iteration number 46 ###########################################\n########################################### Finished Iteration number 47 ###########################################\n########################################### Finished Iteration number 48 ###########################################\n########################################### Finished Iteration number 49 ###########################################\n########################################### Finished Iteration number 50 ###########################################\n"
                }
            ],
            "source": "error_B = []\nfor i in range(50):\n    ##### Splitting the data into training and test sets:\n    x_train, x_test, y_train, y_test = train_test_split(predictors_norm, target, test_size=0.3) # we will not put random states as we will do this operation 50 times and we want the 50 times to be different\n    # print ('Train set:', x_train.shape,  y_train.shape)\n    # print ('Test set:', x_test.shape,  y_test.shape)\n\n\n    ##### Testing and Training:\n    model_B = regression_model_B()\n    model_B.fit(x_train, y_train, validation_split=0.3, epochs=50, verbose=0)\n    # By setting verbose 0, 1 or 2 you just say how do you want to 'see' the training progress for each epoch.\n    # verbose=0 will show you nothing (silent)\n    # verbose=1 will show you an animated progress bar\n    # verbose=2 will just mention the number of epoch\n    y_hat = model_B.predict(x_test)\n    \n    \n    ##### Error calculation:\n    error_B.append(mean_squared_error(y_test, y_hat))\n    print('########################################### Finished Iteration number',i+1,'###########################################')"
        },
        {
            "cell_type": "markdown",
            "metadata": {},
            "source": "## Calculating Mean and STD of The Error:"
        },
        {
            "cell_type": "code",
            "execution_count": 20,
            "metadata": {},
            "outputs": [],
            "source": "error_B_numpy = np.array(error_B)\nmean_B = np.mean(error_B)\nstd_B = np.std(error_B)"
        },
        {
            "cell_type": "markdown",
            "metadata": {},
            "source": "### We can see that the mean error value has decreased compared to Part A. It is considered good practice to normalize the data."
        },
        {
            "cell_type": "code",
            "execution_count": 21,
            "metadata": {},
            "outputs": [
                {
                    "name": "stdout",
                    "output_type": "stream",
                    "text": "679.5670998695459\n133.4076856810711\n"
                }
            ],
            "source": "print(mean_B)\nprint(std_B)"
        },
        {
            "cell_type": "markdown",
            "metadata": {},
            "source": "# Part C:"
        },
        {
            "cell_type": "markdown",
            "metadata": {},
            "source": "## Building a Neural Network:"
        },
        {
            "cell_type": "code",
            "execution_count": 22,
            "metadata": {},
            "outputs": [],
            "source": "def regression_model_C():\n    \n    model = Sequential()\n    \n    model.add(Dense(10, activation='relu', input_shape=(n_cols,)))\n    model.add(Dense(1))\n    \n    model.compile(optimizer='adam', loss='mean_squared_error')\n    \n    return model"
        },
        {
            "cell_type": "code",
            "execution_count": 23,
            "metadata": {},
            "outputs": [
                {
                    "name": "stdout",
                    "output_type": "stream",
                    "text": "########################################### Finished Iteration number 1 ###########################################\n########################################### Finished Iteration number 2 ###########################################\n########################################### Finished Iteration number 3 ###########################################\n########################################### Finished Iteration number 4 ###########################################\n########################################### Finished Iteration number 5 ###########################################\n########################################### Finished Iteration number 6 ###########################################\n########################################### Finished Iteration number 7 ###########################################\n########################################### Finished Iteration number 8 ###########################################\n########################################### Finished Iteration number 9 ###########################################\n########################################### Finished Iteration number 10 ###########################################\n########################################### Finished Iteration number 11 ###########################################\n########################################### Finished Iteration number 12 ###########################################\n########################################### Finished Iteration number 13 ###########################################\n########################################### Finished Iteration number 14 ###########################################\n########################################### Finished Iteration number 15 ###########################################\n########################################### Finished Iteration number 16 ###########################################\n########################################### Finished Iteration number 17 ###########################################\n########################################### Finished Iteration number 18 ###########################################\n########################################### Finished Iteration number 19 ###########################################\n########################################### Finished Iteration number 20 ###########################################\n########################################### Finished Iteration number 21 ###########################################\n########################################### Finished Iteration number 22 ###########################################\n########################################### Finished Iteration number 23 ###########################################\n########################################### Finished Iteration number 24 ###########################################\n########################################### Finished Iteration number 25 ###########################################\n########################################### Finished Iteration number 26 ###########################################\n########################################### Finished Iteration number 27 ###########################################\n########################################### Finished Iteration number 28 ###########################################\n########################################### Finished Iteration number 29 ###########################################\n########################################### Finished Iteration number 30 ###########################################\n########################################### Finished Iteration number 31 ###########################################\n########################################### Finished Iteration number 32 ###########################################\n########################################### Finished Iteration number 33 ###########################################\n########################################### Finished Iteration number 34 ###########################################\n########################################### Finished Iteration number 35 ###########################################\n########################################### Finished Iteration number 36 ###########################################\n########################################### Finished Iteration number 37 ###########################################\n########################################### Finished Iteration number 38 ###########################################\n########################################### Finished Iteration number 39 ###########################################\n########################################### Finished Iteration number 40 ###########################################\n########################################### Finished Iteration number 41 ###########################################\n########################################### Finished Iteration number 42 ###########################################\n########################################### Finished Iteration number 43 ###########################################\n########################################### Finished Iteration number 44 ###########################################\n########################################### Finished Iteration number 45 ###########################################\n########################################### Finished Iteration number 46 ###########################################\n########################################### Finished Iteration number 47 ###########################################\n########################################### Finished Iteration number 48 ###########################################\n########################################### Finished Iteration number 49 ###########################################\n########################################### Finished Iteration number 50 ###########################################\n"
                }
            ],
            "source": "error_C = []\nfor i in range(50):\n    ##### Splitting the data into training and test sets:\n    x_train, x_test, y_train, y_test = train_test_split(predictors_norm, target, test_size=0.3) # we will not put random states as we will do this operation 50 times and we want the 50 times to be different\n    # print ('Train set:', x_train.shape,  y_train.shape)\n    # print ('Test set:', x_test.shape,  y_test.shape)\n\n\n    ##### Testing and Training:\n    model_C = regression_model_C()\n    model_C.fit(x_train, y_train, validation_split=0.3, epochs=100, verbose=0)\n    # By setting verbose 0, 1 or 2 you just say how do you want to 'see' the training progress for each epoch.\n    # verbose=0 will show you nothing (silent)\n    # verbose=1 will show you an animated progress bar\n    # verbose=2 will just mention the number of epoch\n    y_hat = model_C.predict(x_test)\n    \n    \n    ##### Error calculation:\n    error_C.append(mean_squared_error(y_test, y_hat))\n    print('########################################### Finished Iteration number',i+1,'###########################################')"
        },
        {
            "cell_type": "markdown",
            "metadata": {},
            "source": "## Calculating Mean and STD of The Error:"
        },
        {
            "cell_type": "code",
            "execution_count": 24,
            "metadata": {},
            "outputs": [],
            "source": "error_C_numpy = np.array(error_C)\nmean_C = np.mean(error_C)\nstd_C = np.std(error_C)"
        },
        {
            "cell_type": "markdown",
            "metadata": {},
            "source": "### We can see that the mean error value has decreased compared to Part B. We should increase the number of epochs while training when we find a high error value. However, increaing the number of epochs takes more training time and can also lead to overfitting."
        },
        {
            "cell_type": "code",
            "execution_count": 25,
            "metadata": {},
            "outputs": [
                {
                    "name": "stdout",
                    "output_type": "stream",
                    "text": "219.94417147881168\n28.842006012749167\n"
                }
            ],
            "source": "print(mean_C)\nprint(std_C)"
        },
        {
            "cell_type": "code",
            "execution_count": null,
            "metadata": {},
            "outputs": [],
            "source": ""
        }
    ],
    "metadata": {
        "kernelspec": {
            "display_name": "Python 3.9",
            "language": "python",
            "name": "python3"
        },
        "language_info": {
            "codemirror_mode": {
                "name": "ipython",
                "version": 3
            },
            "file_extension": ".py",
            "mimetype": "text/x-python",
            "name": "python",
            "nbconvert_exporter": "python",
            "pygments_lexer": "ipython3",
            "version": "3.9.12"
        }
    },
    "nbformat": 4,
    "nbformat_minor": 1
}